{
 "cells": [
  {
   "cell_type": "code",
   "execution_count": null,
   "source": [
    "import pandas as pd\r\n",
    "import numpy as np\r\n",
    "import matplotlib.pyplot as plt\r\n",
    "import seaborn as sns\r\n",
    "from results_data import all_results, results\r\n",
    "import warnings\r\n",
    "\r\n",
    "warnings.filterwarnings(\"ignore\")"
   ],
   "outputs": [],
   "metadata": {}
  },
  {
   "cell_type": "code",
   "execution_count": null,
   "source": [
    "ielts_data = pd.read_excel('ielts_scores.xlsx', index_col=0)"
   ],
   "outputs": [],
   "metadata": {}
  },
  {
   "cell_type": "code",
   "execution_count": null,
   "source": [
    "#results data \r\n",
    "all_results = all_results\r\n",
    "results = results\r\n",
    "\r\n",
    "#print(len(all_results))"
   ],
   "outputs": [],
   "metadata": {}
  },
  {
   "cell_type": "code",
   "execution_count": null,
   "source": [
    "ielts_overview = pd.DataFrame({\"Listening\":ielts_data.listening_ielts.value_counts(), \"Reading\": ielts_data.reading_ielts.value_counts(), \"Writing\": ielts_data.writing_ielts.value_counts(), \"Speaking\": ielts_data.speaking_ielts.value_counts(), \"Overall\": ielts_data.overall_ielts.value_counts()}, dtype=\"int\").reset_index()\r\n",
    "ielts_overview.rename({\"index\": \"IELTS Score\"}, axis=1, inplace=True)\r\n",
    "ielts_overview = ielts_overview[ielts_overview[\"IELTS Score\"] <=9.0].set_index(\"IELTS Score\")\r\n",
    "\r\n",
    "ielts_overview.to_excel(\"IELTS overview.xlsx\")\r\n",
    "\r\n"
   ],
   "outputs": [],
   "metadata": {}
  },
  {
   "cell_type": "code",
   "execution_count": null,
   "source": [
    "#calculate total scores for skills\r\n",
    "all_results[\"listening_total\"] = all_results[\"EX1 Listening\"]\r\n",
    "all_results[\"reading_total\"] = ((all_results[\"EX3 Reading\"] * 0.6) + (all_results[\"CW1\"] * 0.4))\r\n",
    "all_results[\"writing_total\"] = ((all_results[\"EX3 Writing\"] * 0.6) + (all_results[\"CW3\"] * 0.4))\r\n",
    "all_results[\"speaking_total\"] = ((all_results[\"EX2 Speaking\"] * 0.5) + (all_results[\"CW2\"] * 0.5))\r\n",
    "all_results[\"overall_total\"] = ((all_results[\"listening_total\"] + all_results[\"reading_total\"] + all_results[\"writing_total\"] + all_results[\"speaking_total\"])/4)\r\n",
    "\r\n",
    "#totals df\r\n",
    "totals = all_results[[\"Full Name\", \"cohort\", \"programme\", \"listening_total\", \"reading_total\", \"writing_total\", \"speaking_total\", \"overall_total\"]]"
   ],
   "outputs": [],
   "metadata": {}
  },
  {
   "cell_type": "code",
   "execution_count": null,
   "source": [
    "#convert scores to ielts equivalents\r\n",
    "def ielts_convertor(row):\r\n",
    "  if row >= 95:\r\n",
    "    val = 9.0\r\n",
    "  elif row >= 90:\r\n",
    "    val = 8.5\r\n",
    "  elif row >= 85:\r\n",
    "    val = 8.0\r\n",
    "  elif row >= 80:\r\n",
    "    val = 7.5\r\n",
    "  elif row >= 70:\r\n",
    "    val = 7.0\r\n",
    "  elif row >= 60:\r\n",
    "    val = 6.5\r\n",
    "  elif row >= 50:\r\n",
    "    val = 6.0\r\n",
    "  elif row >= 40:\r\n",
    "    val = 5.5\r\n",
    "  elif row >= 30:\r\n",
    "    val = 5.0\r\n",
    "  else:\r\n",
    "    val = 4.5\r\n",
    "  return val\r\n",
    "\r\n",
    "totals[\"listening_total\"] = totals[\"listening_total\"].apply(ielts_convertor)\r\n",
    "totals[\"reading_total\"] = totals[\"reading_total\"].apply(ielts_convertor)\r\n",
    "totals[\"writing_total\"] = totals[\"writing_total\"].apply(ielts_convertor)\r\n",
    "totals[\"speaking_total\"] = totals[\"speaking_total\"].apply(ielts_convertor)\r\n",
    "totals[\"overall_total\"] = totals[\"overall_total\"].apply(ielts_convertor)\r\n",
    "\r\n"
   ],
   "outputs": [],
   "metadata": {}
  },
  {
   "cell_type": "code",
   "execution_count": null,
   "source": [
    "#remove non-ielts scores\r\n",
    "ielts_data = ielts_data[~(ielts_data.overall_ielts > 9.0)]\r\n",
    "\r\n"
   ],
   "outputs": [],
   "metadata": {}
  },
  {
   "cell_type": "code",
   "execution_count": null,
   "source": [
    "#combine with IELTS data\r\n",
    "all_data = totals.join(ielts_data, how=\"left\")\r\n",
    "\r\n",
    "all_data.dropna(how=\"any\", inplace=True)\r\n",
    "\r\n"
   ],
   "outputs": [],
   "metadata": {}
  },
  {
   "cell_type": "code",
   "execution_count": null,
   "source": [
    "#add nationalities data\r\n",
    "nationalities = pd.read_excel(\"nationalities.xlsx\")\r\n"
   ],
   "outputs": [],
   "metadata": {}
  },
  {
   "cell_type": "code",
   "execution_count": null,
   "source": [
    "#combine nationalities with IELTS data\r\n",
    "\r\n",
    "ielts_melt_data = all_data[[\"Full Name\", \"listening_ielts\", \"reading_ielts\", \"writing_ielts\", \"speaking_ielts\", \"overall_ielts\"]].reset_index(drop=False)\r\n",
    "\r\n",
    "ielts_melt_data = pd.merge(ielts_melt_data, nationalities, left_on=\"Student ID\", right_on=\"student_id\")\r\n",
    "ielts_melt_data.drop(columns=[\"student_id\"], inplace=True)\r\n"
   ],
   "outputs": [],
   "metadata": {}
  },
  {
   "cell_type": "code",
   "execution_count": null,
   "source": [
    "#plot ielts results\r\n",
    "ielts_melt = pd.melt(ielts_melt_data, id_vars=[\"Student ID\", \"Full Name\", \"First Nationality\"], var_name=\"IELTS Skill\", value_name=\"Band Score\")\r\n",
    "\r\n",
    "fig, ax = plt.subplots(figsize=(6,4))\r\n",
    "#sns.countplot(x=\"Band Score\", data=ielts_melt, hue=\"IELTS Skill\", palette=\"Paired_r\", ax=ax)\r\n",
    "sns.histplot(ielts_melt, x=\"Band Score\", hue=\"IELTS Skill\", multiple=\"dodge\")\r\n",
    "plt.title(\"Initial IELTS Count by Skill\")\r\n",
    "plt.xticks(ticks=[4,4.5,5,5.5,6,6.5,7,7.5,8,8.5,9])\r\n",
    "plt.legend([\"Listening\", \"Reading\", \"Writing\", \"Speaking\", \"Overall\"], loc=\"upper right\")\r\n",
    "\r\n",
    "plt.show()\r\n",
    "plt.clf()\r\n",
    "\r\n",
    "country_melt = ielts_melt[((ielts_melt[\"First Nationality\"] == \"CHN: China\") | (ielts_melt[\"First Nationality\"] == \"HKG: Hong Kong\") | (ielts_melt[\"First Nationality\"] == \"SAU: Saudi Arabia\") | (ielts_melt[\"First Nationality\"] == \"PAK: Pakistan\") | (ielts_melt[\"First Nationality\"] == \"RUS: Russia\") | (ielts_melt[\"First Nationality\"] == \"TUR: Turkey\") | (ielts_melt[\"First Nationality\"] == \"ARE: United Arab Emirates\") | (ielts_melt[\"First Nationality\"] == \"THA: Thailand\") | (ielts_melt[\"First Nationality\"] == \"IND: India\") | (ielts_melt[\"First Nationality\"] == \"NGA: Nigeria\")) & (ielts_melt[\"IELTS Skill\"] == \"overall_ielts\")]\r\n",
    "\r\n",
    "\r\n",
    "\r\n",
    "#overall data\r\n",
    "\r\n",
    "sns.countplot(x=\"Band Score\", data=country_melt, color=\"red\", hue=\"First Nationality\", palette=\"bright\", dodge=True)\r\n",
    "plt.legend(loc=\"upper right\")\r\n",
    "plt.xlabel(\"Overall IELTS Score\")\r\n",
    "\r\n",
    "\r\n",
    "plt.show()\r\n"
   ],
   "outputs": [],
   "metadata": {}
  },
  {
   "cell_type": "code",
   "execution_count": null,
   "source": [
    "#calculate percentage change from ielts score\r\n",
    "def band_change(colA, colB):\r\n",
    "  band_improvement = colA - colB\r\n",
    "  return band_improvement\r\n",
    "\r\n",
    "all_data[\"listening_change\"] = band_change(all_data[\"listening_total\"], all_data[\"listening_ielts\"])\r\n",
    "\r\n",
    "all_data[\"reading_change\"] = band_change(all_data[\"reading_total\"], all_data[\"reading_ielts\"])\r\n",
    "\r\n",
    "all_data[\"writing_change\"] = band_change(all_data[\"writing_total\"], all_data[\"writing_ielts\"])\r\n",
    "\r\n",
    "all_data[\"speaking_change\"] = band_change(all_data[\"speaking_total\"], all_data[\"speaking_ielts\"])\r\n",
    "\r\n",
    "all_data[\"overall_change\"] = band_change(all_data[\"overall_total\"], all_data[\"overall_ielts\"])\r\n"
   ],
   "outputs": [],
   "metadata": {}
  },
  {
   "cell_type": "code",
   "execution_count": null,
   "source": [
    "#reset index\r\n",
    "all_data[\"student_id\"] = all_data.index\r\n",
    "all_data = all_data.reset_index(drop=True)\r\n",
    "print(len(all_data))"
   ],
   "outputs": [],
   "metadata": {}
  },
  {
   "cell_type": "code",
   "execution_count": null,
   "source": [
    "#add col to say if improved or not\r\n",
    "def better_or_worse(row):\r\n",
    "  if row > 0:\r\n",
    "    val = \"gain\"\r\n",
    "  elif row == 0:\r\n",
    "    val = \"no change\"\r\n",
    "  else:\r\n",
    "    val = \"loss\"\r\n",
    "  return val\r\n",
    "\r\n",
    "all_data[\"listening_status\"] = all_data.listening_change.apply(better_or_worse)\r\n",
    "all_data[\"reading_status\"] = all_data.reading_change.apply(better_or_worse)\r\n",
    "all_data[\"writing_status\"] = all_data.writing_change.apply(better_or_worse)\r\n",
    "all_data[\"speaking_status\"] = all_data.speaking_change.apply(better_or_worse)\r\n",
    "all_data[\"overall_status\"] = all_data.overall_change.apply(better_or_worse)\r\n",
    "  "
   ],
   "outputs": [],
   "metadata": {}
  },
  {
   "cell_type": "code",
   "execution_count": null,
   "source": [
    "#sort improvers and regressors\r\n",
    "\r\n",
    "#fig, axs = plt.subplots(1, 5, figsize=(21,6))\r\n",
    "palette ={\"gain\": \"#31a354\", \"no change\": \"#fec44f\", \"loss\": \"#e34a33\"}\r\n",
    "sns.set_style(\"whitegrid\")\r\n",
    "\r\n",
    "\r\n",
    "def plot_scatter(skills):\r\n",
    "  i = 0\r\n",
    "  for skill in skills:\r\n",
    "    fig, axs = plt.subplots(1, figsize=(6,4))\r\n",
    "    sns.scatterplot(y=\"{}_total\".format(skill), x= \"{}_ielts\".format(skill), hue=\"{}_status\".format(skill), data=all_data, palette=palette, alpha=0.8)\r\n",
    "    axs.set_ylabel(\"AES {} Grade\".format(skill.capitalize()))\r\n",
    "    axs.set_xlabel(\"Pre-Arrival IELTS Grade\")\r\n",
    "    axs.set_xlim(3.5, 9.5)\r\n",
    "    axs.set_ylim(3.5, 9.5)\r\n",
    "    axs.set_title(\"Pre-Arrival IELTS Grade vs Final AES Grade - {}\".format(skill.capitalize()))\r\n",
    "    axs.legend(title=\"{} Status\".format(skill.capitalize()), loc=\"lower right\")\r\n",
    "    plt.tight_layout()\r\n",
    "    plt.savefig(\"charts/IELTS vs AES - {}\".format(skill))\r\n",
    "    plt.show()\r\n",
    "    i += 1\r\n",
    "\r\n",
    "plot_scatter([\"listening\", \"reading\", \"writing\", \"speaking\", \"overall\"])\r\n",
    "\r\n"
   ],
   "outputs": [],
   "metadata": {}
  },
  {
   "cell_type": "code",
   "execution_count": null,
   "source": [
    "#average gains and losses\r\n",
    "def get_averages(series, status_col, status):\r\n",
    "  avg = round(all_data[series][all_data[status_col] == status].mean(), 2)\r\n",
    "  return avg\r\n",
    "\r\n",
    "\r\n",
    "\r\n",
    "#averages df\r\n",
    "averages_data = {\"Skill\": [\"Listening\", \"Reading\", \"Writing\", \"Speaking\", \"Overall\"], \"Average Gain\": [get_averages(\"listening_change\", \"listening_status\", \"gain\"), get_averages(\"reading_change\", \"reading_status\", \"gain\"), get_averages(\"writing_change\", \"writing_status\", \"gain\"), get_averages(\"speaking_change\", \"speaking_status\", \"gain\"), get_averages(\"overall_change\", \"overall_status\", \"gain\")], \"Average Loss\": [get_averages(\"listening_change\", \"listening_status\", \"loss\"), get_averages(\"reading_change\", \"reading_status\", \"loss\"), get_averages(\"writing_change\", \"writing_status\", \"loss\"), get_averages(\"speaking_change\", \"speaking_status\", \"loss\"), get_averages(\"overall_change\", \"overall_status\", \"loss\")]}\r\n",
    "\r\n",
    "averages_df = pd.DataFrame(averages_data)\r\n",
    "\r\n",
    "averages_df[\"Net Change\"] = averages_df[\"Average Gain\"] + averages_df[\"Average Loss\"]\r\n",
    "print(averages_df)\r\n",
    "\r\n",
    "#melt\r\n",
    "averages_melt = pd.melt(averages_df, id_vars=\"Skill\", var_name=\"Type\", value_name=\"Gain/Loss\")\r\n",
    "\r\n",
    "#plot gain vs loss\r\n",
    "fig, axs = plt.subplots(1,figsize=(6,4))\r\n",
    "gain_loss_palette = {\"Average Gain\": \"#31a354\", \"Average Loss\": \"#e34a33\", \"Net Change\": \"#fec44f\"}\r\n",
    "plt.title(\"Average Gain vs Loss by Skill\")\r\n",
    "sns.barplot(x=\"Skill\", y=\"Gain/Loss\", hue=\"Type\", data=averages_melt, palette=gain_loss_palette, ax=axs)\r\n",
    "axs.set_ylabel(\"Gain / Loss (Bands)\")\r\n",
    "axs.legend(ncol=2)\r\n",
    "plt.savefig(\"charts/average gain-loss IELTS.png\")\r\n",
    "plt.show()"
   ],
   "outputs": [],
   "metadata": {}
  },
  {
   "cell_type": "code",
   "execution_count": null,
   "source": [
    "#status df\r\n",
    "data = {\"Listening\": all_data.listening_status.value_counts(), \"Reading\": all_data.reading_status.value_counts(), \"Writing\": all_data.writing_status.value_counts(), \"Speaking\": all_data.speaking_status.value_counts(), \"Overall\": all_data.overall_status.value_counts()}\r\n",
    "status_df = pd.DataFrame(data)\r\n",
    "\r\n",
    "#student statuses\r\n",
    "student_status_df = all_data[[\"student_id\", \"Full Name\", \"cohort\", \"programme\", \"listening_ielts\", \"listening_change\", \"reading_ielts\", \"reading_change\", \"writing_ielts\", \"writing_change\", \"speaking_ielts\", \"speaking_change\", \"overall_ielts\", \"overall_change\"]]\r\n",
    "\r\n",
    "student_status_df.set_index(\"student_id\", drop=True, inplace=True)\r\n",
    "\r\n",
    "student_status_df.rename({\"listening_ielts\": \"Initial Listening IELTS\", \"listening_change\": \"Listening Band Change\", \"reading_ielts\": \"Initial Reading IELTS\", \"reading_change\": \"Reading Band Change\", \"writing_ielts\": \"Initial Writing IELTS\", \"writing_change\": \"Writing Band Change\", \"speaking_ielts\": \"Initial Speaking IELTS\", \"speaking_change\": \"Speaking Band Change\", \"overall_ielts\": \"Initial Overall IELTS\", \"overall_change\": \"Overall Band Change\"}, axis=1, inplace=True)\r\n"
   ],
   "outputs": [],
   "metadata": {}
  },
  {
   "cell_type": "code",
   "execution_count": null,
   "source": [
    "writer = pd.ExcelWriter(\"Student Improvement Status.xlsx\", engine='xlsxwriter')\r\n",
    "\r\n",
    "status_df.to_excel(writer, sheet_name='Gain-Loss Overview')\r\n",
    "student_status_df.to_excel(writer, sheet_name='Breakdown by Student')\r\n",
    "\r\n",
    "workbook = writer.book\r\n",
    "worksheet1 = writer.sheets[\"Gain-Loss Overview\"]\r\n",
    "worksheet2 = writer.sheets[\"Breakdown by Student\"]\r\n",
    "worksheet3 = workbook.add_worksheet(\"Charts\")\r\n",
    "\r\n",
    "#add gain-loss overview table\r\n",
    "(max_row_1, max_col_1) = status_df.shape\r\n",
    "column_settings_1 = [{\"header\": column} for column in status_df.columns]\r\n",
    "col1_1 = column_settings_1.insert(0, {\"header\": \"Status\"})\r\n",
    "\r\n",
    "\r\n",
    "worksheet1.add_table(0,0, max_row_1, max_col_1, {\"columns\": column_settings_1, \"style\": \"Table Style Light 8\"})\r\n",
    "worksheet1.set_column(0, max_col_1, 20)\r\n",
    "\r\n",
    "#add student data table\r\n",
    "(max_row, max_col) = student_status_df.shape\r\n",
    "column_settings = [{\"header\": column} for column in student_status_df.columns]\r\n",
    "col1 = column_settings.insert(0, {\"header\": \"Student ID\"})\r\n",
    "#print(column_settings)\r\n",
    "\r\n",
    "worksheet2.add_table(0,0, max_row, max_col, {'columns': column_settings, \"style\": 'Table Style Light 8'})\r\n",
    "worksheet2.set_column(0, max_col, 20)\r\n",
    "\r\n",
    "worksheet2.conditional_format(\"F2:F{}\".format(max_row +1), {\"type\": '3_color_scale'})\r\n",
    "worksheet2.conditional_format(\"H2:H{}\".format(max_row +1), {\"type\": '3_color_scale'})\r\n",
    "worksheet2.conditional_format(\"J2:J{}\".format(max_row +1), {\"type\": '3_color_scale'})\r\n",
    "worksheet2.conditional_format(\"L2:L{}\".format(max_row +1), {\"type\": '3_color_scale'})\r\n",
    "worksheet2.conditional_format(\"N2:N{}\".format(max_row +1), {\"type\": '3_color_scale'})\r\n",
    "\r\n",
    "worksheet3.insert_image(\"A1\", \"charts/IELTS vs AES - Listening.png\")\r\n",
    "worksheet3.insert_image(\"J1\", \"charts/IELTS vs AES - Reading.png\")\r\n",
    "worksheet3.insert_image(\"A21\", \"charts/IELTS vs AES - Writing.png\")\r\n",
    "worksheet3.insert_image(\"J21\", \"charts/IELTS vs AES - Speaking.png\")\r\n",
    "worksheet3.insert_image(\"S1\", \"charts/average gain-loss IELTS.png\")\r\n",
    "\r\n",
    "\r\n",
    "\r\n",
    "\r\n",
    "writer.save()\r\n"
   ],
   "outputs": [],
   "metadata": {}
  }
 ],
 "metadata": {
  "orig_nbformat": 4,
  "language_info": {
   "name": "python",
   "version": "3.9.2",
   "mimetype": "text/x-python",
   "codemirror_mode": {
    "name": "ipython",
    "version": 3
   },
   "pygments_lexer": "ipython3",
   "nbconvert_exporter": "python",
   "file_extension": ".py"
  },
  "kernelspec": {
   "name": "python3",
   "display_name": "Python 3.9.2 64-bit"
  },
  "interpreter": {
   "hash": "672165424b2176c0518825bbf6ac5cf7557130af1791d59fe75c2bd75f102ae8"
  }
 },
 "nbformat": 4,
 "nbformat_minor": 2
}