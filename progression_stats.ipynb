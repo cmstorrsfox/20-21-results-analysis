{
 "cells": [
  {
   "cell_type": "code",
   "execution_count": null,
   "source": [
    "import pandas as pd\r\n",
    "import numpy as np\r\n",
    "import matplotlib.pyplot as plt\r\n",
    "import seaborn as sns"
   ],
   "outputs": [],
   "metadata": {}
  },
  {
   "cell_type": "code",
   "execution_count": null,
   "source": [
    "progression_data = pd.read_excel(\"all_student_data.xlsx\")\r\n",
    "\r\n",
    "progression_data = progression_data[[\"Student ID\", \"Full Name\", \"programme\", \"cohort\", \"reg_group\", \"status\"]]\r\n",
    "\r\n"
   ],
   "outputs": [],
   "metadata": {}
  },
  {
   "cell_type": "code",
   "execution_count": null,
   "source": [
    "#get value counts\r\n",
    "fig, ax = plt.subplots(1, figsize=(6,4))\r\n",
    "sns.countplot(x=\"programme\", data=progression_data, hue=\"cohort\", palette=\"Paired\", ax=ax)\r\n",
    "for p in ax.containers:\r\n",
    "  ax.bar_label(p)\r\n",
    "\r\n",
    "plt.tight_layout()\r\n",
    "plt.legend(loc=\"upper right\", title=\"Cohort\")\r\n",
    "plt.title(\"Student Numbers by Programme and Cohort\", fontsize=16)\r\n",
    "plt.show()\r\n",
    "\r\n",
    "#get pass fail counts\r\n",
    "fig, ax1 = plt.subplots(1, figsize=(6,4))\r\n",
    "palette = {\"pass\": \"mediumseagreen\", \"fail\": \"tomato\"}\r\n",
    "sns.countplot(x=\"cohort\", hue=\"status\", data=progression_data, palette=palette, ax=ax1)\r\n",
    "for p in ax1.containers:\r\n",
    "  ax1.bar_label(p)\r\n",
    "  \r\n",
    "plt.tight_layout()\r\n",
    "plt.legend(loc=\"upper right\", title=\"Status\")\r\n",
    "plt.title(\"Pass / Fail Status by Cohort\", fontsize=16)\r\n",
    "plt.show()\r\n",
    "\r\n"
   ],
   "outputs": [],
   "metadata": {}
  },
  {
   "cell_type": "code",
   "execution_count": null,
   "source": [
    "#nationalities\r\n",
    "nationalities = pd.read_excel(\"nationalities.xlsx\")\r\n",
    "\r\n",
    "\r\n",
    "fig, ax = plt.subplots()\r\n",
    "sns.countplot(x=\"First Nationality\", data=nationalities, order=nationalities[\"First Nationality\"].value_counts().iloc[:10].index, ax=ax, palette=\"Paired\")\r\n",
    "ax.set_xticks(range(0,10))\r\n",
    "ax.set_xticklabels(labels=nationalities[\"First Nationality\"].value_counts().iloc[:10].index, rotation=45, ha=\"right\")\r\n",
    "ax.set_title(\"Top 10 nationalities\")\r\n",
    "\r\n",
    "plt.show()"
   ],
   "outputs": [],
   "metadata": {}
  }
 ],
 "metadata": {
  "orig_nbformat": 4,
  "language_info": {
   "name": "python",
   "version": "3.9.2",
   "mimetype": "text/x-python",
   "codemirror_mode": {
    "name": "ipython",
    "version": 3
   },
   "pygments_lexer": "ipython3",
   "nbconvert_exporter": "python",
   "file_extension": ".py"
  },
  "kernelspec": {
   "name": "python3",
   "display_name": "Python 3.9.2 64-bit"
  },
  "interpreter": {
   "hash": "672165424b2176c0518825bbf6ac5cf7557130af1791d59fe75c2bd75f102ae8"
  }
 },
 "nbformat": 4,
 "nbformat_minor": 2
}