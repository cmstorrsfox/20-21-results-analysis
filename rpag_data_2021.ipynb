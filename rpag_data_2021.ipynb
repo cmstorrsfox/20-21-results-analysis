{
 "cells": [
  {
   "cell_type": "code",
   "execution_count": null,
   "source": [
    "import pandas as pd\r\n",
    "import numpy as np\r\n",
    "import matplotlib\r\n",
    "import matplotlib.pyplot as plt\r\n",
    "import seaborn as sns\r\n",
    "import warnings\r\n",
    "\r\n",
    "warnings.filterwarnings(\"ignore\")"
   ],
   "outputs": [],
   "metadata": {}
  },
  {
   "cell_type": "code",
   "execution_count": 95,
   "source": [
    "#import and clean rpag data\r\n",
    "\r\n",
    "rpag_data = pd.read_csv(\"rpag_data_2021.csv\")\r\n",
    "\r\n",
    "rpag_data.dropna(how=\"any\", inplace=True)\r\n",
    "rpag_data[\"reg_group\"] = rpag_data[\"reg_group\"].apply(lambda x: x.strip())\r\n",
    "\r\n",
    "jan_aes_rpags = rpag_data[(rpag_data[\"reg_group\"].str.contains(\"JF|JI\", regex=True)) & (rpag_data[\"SubjectName\"] == \"Academic English Skills\")].reset_index()\r\n",
    "sept_aes_rpags = rpag_data[rpag_data[\"reg_group\"].str.contains(\"SF|SI\", regex=True) & (rpag_data[\"SubjectName\"] == \"Academic English Skills\")].reset_index()\r\n",
    "mar_aes_rpags = rpag_data[rpag_data[\"reg_group\"].str.contains(\"MP\") & (rpag_data[\"SubjectName\"] == \"Academic English Skills\")].reset_index()\r\n",
    "\r\n",
    "jan_aes_rpags.drop(np.where(jan_aes_rpags[\"RPAG\"] == \"RPAG 1\")[0], inplace=True, axis=0)\r\n",
    "jan_aes_rpags.reset_index(drop=True, inplace=True)\r\n",
    "jan_aes_rpags.drop(np.where(jan_aes_rpags[\"RPAG\"] == \"RPAG 2\")[0], inplace=True, axis=0)\r\n",
    "\r\n",
    "jan_aes_rpags[\"RPAG\"] = jan_aes_rpags[\"RPAG\"].map({\"RPAG 3\": \"RPAG 1\", \"RPAG 4\": \"RPAG 2\", \"RPAG 5\": \"RPAG 3\", \"RPAG 6\": \"RPAG 4\"})\r\n",
    "\r\n",
    "all_rpags = pd.concat([sept_aes_rpags, jan_aes_rpags, mar_aes_rpags])\r\n",
    "\r\n",
    "all_rpags.drop(columns=\"index\", inplace=True)\r\n",
    "all_rpags.drop(np.where(all_rpags[\"RPAG\"] == \"RPAG 6\")[0], inplace=True, axis=0)\r\n"
   ],
   "outputs": [],
   "metadata": {}
  },
  {
   "cell_type": "code",
   "execution_count": null,
   "source": [
    "#Get individual student AES RPAGS\r\n",
    "aes_rpags = all_rpags[all_rpags[\"SubjectName\"] == \"Academic English Skills\"]\r\n",
    "\r\n",
    "pivot = aes_rpags.pivot(index=\"name\", columns=[\"RPAG\"], values=\"PAG1\")\r\n",
    "pivot = pivot.apply(lambda x: x.map({\"Green\": 4.0, \"Amber\": 3.0, \"Pink\": 2.0, \"Red\": 1.0}))\r\n",
    "pivot.drop(columns=\"RPAG 5\", inplace=True)\r\n",
    "pivot.dropna(how=\"all\", inplace=True)\r\n",
    "pivot.fillna(0)\r\n",
    "\r\n",
    "print(aes_rpags.head())\r\n",
    "\r\n",
    "for i in pivot.iterrows():\r\n",
    "  palette = {}\r\n",
    "  j = 1\r\n",
    "  for x in i[1].values:\r\n",
    "    if x == 4:\r\n",
    "      palette.update({\"RPAG {}\".format(j): \"#32cd32\"})\r\n",
    "    elif x == 3:\r\n",
    "      palette.update({\"RPAG {}\".format(j): \"#ffbf00\"})\r\n",
    "    elif x == 2:\r\n",
    "      palette.update({\"RPAG {}\".format(j): \"#ff69b4\"})\r\n",
    "    else:\r\n",
    "      palette.update({\"RPAG {}\".format(j): \"#e32636\"})\r\n",
    "    j+=1\r\n",
    "  \r\n",
    "  sns.barplot(x=i[1].index, y=i[1].values, palette=palette)\r\n",
    "  plt.title(\"{}\\n RPAG Information\".format(i[0]))\r\n",
    "  plt.yticks([1,2,3,4], labels=[\"Red\", \"Pink\", \"Amber\", \"Green\"])\r\n",
    "  plt.show()\r\n",
    "\r\n",
    "\r\n",
    "fig, axs = plt.subplots(3,1, figsize=(10, 12))\r\n",
    "palette = {\"Green\": \"#32cd32\", \"Amber\": \"#ffbf00\", \"Pink\": \"#ff69b4\", \"Red\": \"#e32636\"}\r\n",
    "sns.countplot(x=\"reg_group\", data=aes_rpags, hue=\"PAG1\", palette=palette, dodge=True, hue_order=[\"Green\", \"Amber\", \"Pink\", \"Red\"], ax=axs[0])\r\n",
    "axs[0].set_xlabel(\"Pathway\")\r\n",
    "axs[0].set_xticklabels(labels=all_rpags[\"reg_group\"].unique(), rotation=45, ha=\"right\")\r\n",
    "axs[0].set_title(\"AES RPAG ratings by cohort\")\r\n",
    "\r\n",
    "sns.countplot(x=\"RPAG\", data=aes_rpags, hue=\"PAG1\", palette=palette, hue_order=[\"Green\", \"Amber\", \"Pink\", \"Red\"], ax=axs[1])\r\n",
    "axs[1].set_title(\"AES RPAG ratings by reporting period\")\r\n",
    "\r\n",
    "plt.tight_layout()\r\n",
    "plt.show()"
   ],
   "outputs": [],
   "metadata": {}
  },
  {
   "cell_type": "code",
   "execution_count": null,
   "source": [
    "def get_rpag(student):\r\n",
    "  data = pivot.loc[student]\r\n",
    "  palette = {}\r\n",
    "  j = 1\r\n",
    "  for x in data.values:\r\n",
    "    if x == 4:\r\n",
    "      palette.update({\"RPAG {}\".format(j): \"#32cd32\"})\r\n",
    "    elif x == 3:\r\n",
    "      palette.update({\"RPAG {}\".format(j): \"#ffbf00\"})\r\n",
    "    elif x == 2:\r\n",
    "      palette.update({\"RPAG {}\".format(j): \"#ff69b4\"})\r\n",
    "    else:\r\n",
    "      palette.update({\"RPAG {}\".format(j): \"#e32636\"})\r\n",
    "    j+=1\r\n",
    "  \r\n",
    "  sns.barplot(x=data.index, y=data.values, palette=palette)\r\n",
    "  plt.yticks([1,2,3,4], labels=[\"Red\", \"Pink\", \"Amber\", \"Green\"])\r\n",
    "  plt.show()\r\n",
    "\r\n",
    "get_rpag(\"Ziqi ZHANG\")\r\n",
    "\r\n",
    "print(pivot.index)\r\n"
   ],
   "outputs": [],
   "metadata": {}
  },
  {
   "cell_type": "code",
   "execution_count": null,
   "source": [
    "#aes rpag overview\r\n",
    "aes_rpags[\"num_equiv\"] = aes_rpags[\"PAG1\"].map({\"Green\": 4, \"Amber\": 3, \"Pink\": 2, \"Red\": 1})\r\n",
    "matplotlib.rcParams.update({'font.size': 12})\r\n",
    "new_palette = {\"Green\": \"#32cd32\", \"Amber\": \"#ffbf00\", \"Pink\": \"#ff69b4\", \"Red\": \"#e32636\"}\r\n",
    "for group in aes_rpags[\"reg_group\"].unique():\r\n",
    "  fig, ax = plt.subplots(figsize=(6,4))\r\n",
    "  sns.countplot(x=\"RPAG\", data=aes_rpags[aes_rpags[\"reg_group\"] == group], hue=\"PAG1\", hue_order=[\"Green\", \"Amber\", \"Pink\", \"Red\"], palette=new_palette)\r\n",
    "  plt.legend().remove()\r\n",
    "  plt.title(\"AES RPAG count data for {}\".format(group))\r\n",
    "  plt.tight_layout()\r\n",
    "  plt.savefig(\"charts/{}.png\".format(group))\r\n",
    "  plt.show()\r\n",
    "  plt.clf()\r\n"
   ],
   "outputs": [],
   "metadata": {}
  },
  {
   "cell_type": "code",
   "execution_count": 99,
   "source": [
    "fig, ax = plt.subplots(figsize=(6,4))\r\n",
    "sns.countplot(data=jan_aes_rpags[jan_aes_rpags[\"reg_group\"].str.contains(\"JF\")], x=\"RPAG\", hue=\"PAG1\", palette=new_palette, hue_order=[\"Green\", \"Amber\", \"Pink\", \"Red\"])\r\n",
    "plt.title(\"January IFY\")\r\n",
    "plt.tight_layout()\r\n",
    "plt.legend().remove()\r\n",
    "plt.savefig(\"charts/jan_ify_rpags.png\")\r\n",
    "plt.show()\r\n",
    "plt.clf()\r\n",
    "\r\n",
    "fig, ax = plt.subplots(figsize=(6,4))\r\n",
    "sns.countplot(data=jan_aes_rpags[jan_aes_rpags[\"reg_group\"].str.contains(\"JI\")], x=\"RPAG\", hue=\"PAG1\", palette=new_palette, hue_order=[\"Green\", \"Amber\", \"Pink\", \"Red\"])\r\n",
    "plt.title(\"January IY1\")\r\n",
    "plt.tight_layout()\r\n",
    "plt.legend().remove()\r\n",
    "plt.savefig(\"charts/jan_iy1_rpags.png\")\r\n",
    "plt.show()\r\n",
    "plt.clf()\r\n",
    "\r\n",
    "fig, ax = plt.subplots(figsize=(6,4))\r\n",
    "sns.countplot(data=sept_aes_rpags[(sept_rpags[\"reg_group\"].str.contains(\"SI\")) & (sept_aes_rpags[\"RPAG\"] != \"RPAG 6\")], x=\"RPAG\", hue=\"PAG1\", palette=new_palette, hue_order=[\"Green\", \"Amber\", \"Pink\", \"Red\"])\r\n",
    "plt.title(\"September IY1\")\r\n",
    "plt.tight_layout()\r\n",
    "plt.legend().remove()\r\n",
    "plt.savefig(\"charts/sept_iy1_rpags.png\")\r\n",
    "plt.show()\r\n",
    "plt.clf()\r\n",
    "\r\n",
    "fig, ax = plt.subplots(figsize=(6,4))\r\n",
    "sns.countplot(data=sept_aes_rpags[sept_aes_rpags[\"reg_group\"].str.contains(\"SF\")], x=\"RPAG\", hue=\"PAG1\", palette=new_palette, hue_order=[\"Green\", \"Amber\", \"Pink\", \"Red\"])\r\n",
    "plt.title(\"September IFY\")\r\n",
    "plt.tight_layout()\r\n",
    "plt.legend().remove()\r\n",
    "plt.savefig(\"charts/sept_ify_rpags.png\")\r\n",
    "plt.show()\r\n",
    "plt.clf()\r\n",
    "\r\n",
    "fig, ax = plt.subplots(figsize=(6,4))\r\n",
    "sns.countplot(data=mar_aes_rpags[mar_aes_rpags[\"reg_group\"].str.contains(\"PM\")], x=\"RPAG\", hue=\"PAG1\", palette=new_palette, hue_order=[\"Green\", \"Amber\", \"Pink\", \"Red\"])\r\n",
    "plt.title(\"March PMP\")\r\n",
    "plt.tight_layout()\r\n",
    "plt.legend().remove()\r\n",
    "plt.savefig(\"charts/mar_pmp_rpags.png\")\r\n",
    "plt.show()\r\n",
    "plt.clf()\r\n"
   ],
   "outputs": [
    {
     "output_type": "display_data",
     "data": {
      "image/png": "[encoded data removed]",
      "text/plain": [
       "<Figure size 432x288 with 1 Axes>"
      ]
     },
     "metadata": {
      "needs_background": "light"
     }
    },
    {
     "output_type": "display_data",
     "data": {
      "text/plain": [
       "<Figure size 432x288 with 0 Axes>"
      ]
     },
     "metadata": {}
    },
    {
     "output_type": "display_data",
     "data": {
      "image/png": "[encoded data removed]",
      "text/plain": [
       "<Figure size 432x288 with 1 Axes>"
      ]
     },
     "metadata": {
      "needs_background": "light"
     }
    },
    {
     "output_type": "display_data",
     "data": {
      "text/plain": [
       "<Figure size 432x288 with 0 Axes>"
      ]
     },
     "metadata": {}
    },
    {
     "output_type": "display_data",
     "data": {
      "image/png": "[encoded data removed]",
      "text/plain": [
       "<Figure size 432x288 with 1 Axes>"
      ]
     },
     "metadata": {
      "needs_background": "light"
     }
    },
    {
     "output_type": "display_data",
     "data": {
      "text/plain": [
       "<Figure size 432x288 with 0 Axes>"
      ]
     },
     "metadata": {}
    },
    {
     "output_type": "display_data",
     "data": {
      "image/png": "[encoded data removed]",
      "text/plain": [
       "<Figure size 432x288 with 1 Axes>"
      ]
     },
     "metadata": {
      "needs_background": "light"
     }
    },
    {
     "output_type": "display_data",
     "data": {
      "text/plain": [
       "<Figure size 432x288 with 0 Axes>"
      ]
     },
     "metadata": {}
    },
    {
     "output_type": "display_data",
     "data": {
      "image/png": "[encoded data removed]",
      "text/plain": [
       "<Figure size 432x288 with 1 Axes>"
      ]
     },
     "metadata": {
      "needs_background": "light"
     }
    },
    {
     "output_type": "display_data",
     "data": {
      "text/plain": [
       "<Figure size 432x288 with 0 Axes>"
      ]
     },
     "metadata": {}
    }
   ],
   "metadata": {}
  }
 ],
 "metadata": {
  "orig_nbformat": 4,
  "language_info": {
   "name": "python",
   "version": "3.9.2",
   "mimetype": "text/x-python",
   "codemirror_mode": {
    "name": "ipython",
    "version": 3
   },
   "pygments_lexer": "ipython3",
   "nbconvert_exporter": "python",
   "file_extension": ".py"
  },
  "kernelspec": {
   "name": "python3",
   "display_name": "Python 3.9.2 64-bit"
  },
  "interpreter": {
   "hash": "672165424b2176c0518825bbf6ac5cf7557130af1791d59fe75c2bd75f102ae8"
  }
 },
 "nbformat": 4,
 "nbformat_minor": 2
}