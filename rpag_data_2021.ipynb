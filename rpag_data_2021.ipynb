{
 "cells": [
  {
   "cell_type": "code",
   "execution_count": null,
   "source": [
    "import pandas as pd\r\n",
    "import numpy as np\r\n",
    "import matplotlib.pyplot as plt\r\n",
    "import seaborn as sns"
   ],
   "outputs": [],
   "metadata": {}
  },
  {
   "cell_type": "code",
   "execution_count": null,
   "source": [
    "#import and clean rpag data\r\n",
    "\r\n",
    "rpag_data = pd.read_csv(\"rpag_data_2021.csv\")\r\n",
    "\r\n",
    "rpag_data.dropna(how=\"any\", inplace=True)\r\n",
    "\r\n",
    "jan_rpags = rpag_data[rpag_data[\"reg_group\"].str.contains(\"JF|JI\", regex=True)].reset_index()\r\n",
    "sept_rpags = rpag_data[rpag_data[\"reg_group\"].str.contains(\"SF|SI\", regex=True)].reset_index()\r\n",
    "mar_rpags = rpag_data[rpag_data[\"reg_group\"].str.contains(\"MP\")].reset_index()\r\n",
    "\r\n",
    "jan_rpags.drop(np.where(jan_rpags[\"RPAG\"] == \"RPAG 1\")[0], inplace=True, axis=0)\r\n",
    "jan_rpags.reset_index(drop=True, inplace=True)\r\n",
    "jan_rpags.drop(np.where(jan_rpags[\"RPAG\"] == \"RPAG 2\")[0], inplace=True, axis=0)\r\n",
    "\r\n",
    "jan_rpags[\"RPAG\"] = jan_rpags[\"RPAG\"].map({\"RPAG 3\": \"RPAG 1\", \"RPAG 4\": \"RPAG 2\", \"RPAG 5\": \"RPAG 3\", \"RPAG 6\": \"RPAG 4\"})\r\n",
    "\r\n",
    "all_rpags = pd.concat([sept_rpags, jan_rpags, mar_rpags])\r\n",
    "\r\n",
    "all_rpags.drop(columns=\"index\", inplace=True)\r\n",
    "all_rpags.drop(np.where(all_rpags[\"RPAG\"] == \"RPAG 6\")[0], inplace=True, axis=0)\r\n",
    "\r\n"
   ],
   "outputs": [],
   "metadata": {}
  },
  {
   "cell_type": "code",
   "execution_count": null,
   "source": [
    "#Get AES RPAGS\r\n",
    "aes_rpags = all_rpags[all_rpags[\"SubjectName\"] == \"Academic English Skills\"]\r\n",
    "\r\n",
    "pivot = aes_rpags.pivot(index=\"name\", columns=[\"RPAG\"], values=\"PAG1\")\r\n",
    "pivot = pivot.apply(lambda x: x.map({\"Green\": 4.0, \"Amber\": 3.0, \"Pink\": 2.0, \"Red\": 1.0}))\r\n",
    "pivot.drop(columns=\"RPAG 5\", inplace=True)\r\n",
    "pivot.dropna(how=\"all\", inplace=True)\r\n",
    "pivot.fillna(0)\r\n",
    "\r\n",
    "for i in pivot.iterrows():\r\n",
    "  palette = {}\r\n",
    "  j = 1\r\n",
    "  for x in i[1].values:\r\n",
    "    if x == 4:\r\n",
    "      palette.update({\"RPAG {}\".format(j): \"#32cd32\"})\r\n",
    "    elif x == 3:\r\n",
    "      palette.update({\"RPAG {}\".format(j): \"#ffbf00\"})\r\n",
    "    elif x == 2:\r\n",
    "      palette.update({\"RPAG {}\".format(j): \"#ff69b4\"})\r\n",
    "    else:\r\n",
    "      palette.update({\"RPAG {}\".format(j): \"#e32636\"})\r\n",
    "    j+=1\r\n",
    "  \r\n",
    "  sns.barplot(x=i[1].index, y=i[1].values, palette=palette)\r\n",
    "  plt.title(\"{}\\n RPAG Information\".format(i[0]))\r\n",
    "  plt.yticks([1,2,3,4], labels=[\"Red\", \"Pink\", \"Amber\", \"Green\"])\r\n",
    "  plt.show()\r\n",
    "\r\n",
    "\r\n",
    "fig, axs = plt.subplots(3,1, figsize=(10, 12))\r\n",
    "palette = {\"Green\": \"#32cd32\", \"Amber\": \"#ffbf00\", \"Pink\": \"#ff69b4\", \"Red\": \"#e32636\"}\r\n",
    "sns.countplot(x=\"reg_group\", data=aes_rpags, hue=\"PAG1\", palette=palette, dodge=True, hue_order=[\"Green\", \"Amber\", \"Pink\", \"Red\"], ax=axs[0])\r\n",
    "axs[0].set_xlabel(\"Pathway\")\r\n",
    "axs[0].set_xticklabels(labels=all_rpags[\"reg_group\"].unique(), rotation=45, ha=\"right\")\r\n",
    "axs[0].set_title(\"AES RPAG ratings by cohort\")\r\n",
    "\r\n",
    "sns.countplot(x=\"RPAG\", data=aes_rpags, hue=\"PAG1\", palette=palette, hue_order=[\"Green\", \"Amber\", \"Pink\", \"Red\"], ax=axs[1])\r\n",
    "axs[1].set_title(\"AES RPAG ratings by reporting period\")\r\n",
    "\r\n",
    "plt.tight_layout()\r\n",
    "plt.show()"
   ],
   "outputs": [],
   "metadata": {}
  },
  {
   "cell_type": "code",
   "execution_count": 57,
   "source": [
    "def get_rpag(student):\r\n",
    "  data = pivot.loc[student]\r\n",
    "  palette = {}\r\n",
    "  j = 1\r\n",
    "  for x in data.values:\r\n",
    "    if x == 4:\r\n",
    "      palette.update({\"RPAG {}\".format(j): \"#32cd32\"})\r\n",
    "    elif x == 3:\r\n",
    "      palette.update({\"RPAG {}\".format(j): \"#ffbf00\"})\r\n",
    "    elif x == 2:\r\n",
    "      palette.update({\"RPAG {}\".format(j): \"#ff69b4\"})\r\n",
    "    else:\r\n",
    "      palette.update({\"RPAG {}\".format(j): \"#e32636\"})\r\n",
    "    j+=1\r\n",
    "  \r\n",
    "  sns.barplot(x=data.index, y=data.values, palette=palette)\r\n",
    "  plt.yticks([1,2,3,4], labels=[\"Red\", \"Pink\", \"Amber\", \"Green\"])\r\n",
    "  plt.show()\r\n",
    "\r\n",
    "get_rpag(\"Ziqi ZHANG\")\r\n",
    "\r\n",
    "print(pivot.index)\r\n"
   ],
   "outputs": [
    {
     "output_type": "display_data",
     "data": {
      "text/plain": [
       "<Figure size 432x288 with 1 Axes>"
      ],
      "image/svg+xml": "<?xml version=\"1.0\" encoding=\"utf-8\" standalone=\"no\"?>\r\n<!DOCTYPE svg PUBLIC \"-//W3C//DTD SVG 1.1//EN\"\r\n  \"http://www.w3.org/Graphics/SVG/1.1/DTD/svg11.dtd\">\r\n<svg height=\"265.995469pt\" version=\"1.1\" viewBox=\"0 0 389.39375 265.995469\" width=\"389.39375pt\" xmlns=\"http://www.w3.org/2000/svg\" xmlns:xlink=\"http://www.w3.org/1999/xlink\">\r\n <metadata>\r\n  <rdf:RDF xmlns:cc=\"http://creativecommons.org/ns#\" xmlns:dc=\"http://purl.org/dc/elements/1.1/\" xmlns:rdf=\"http://www.w3.org/1999/02/22-rdf-syntax-ns#\">\r\n   <cc:Work>\r\n    <dc:type rdf:resource=\"http://purl.org/dc/dcmitype/StillImage\"/>\r\n    <dc:date>2021-09-01T17:28:24.837659</dc:date>\r\n    <dc:format>image/svg+xml</dc:format>\r\n    <dc:creator>\r\n     <cc:Agent>\r\n      <dc:title>Matplotlib v3.4.2, https://matplotlib.org/</dc:title>\r\n     </cc:Agent>\r\n    </dc:creator>\r\n   </cc:Work>\r\n  </rdf:RDF>\r\n </metadata>\r\n <defs>\r\n  <style type=\"text/css\">*{stroke-linecap:butt;stroke-linejoin:round;}</style>\r\n </defs>\r\n <g id=\"figure_1\">\r\n  <g id=\"patch_1\">\r\n   <path d=\"M 0 265.995469 \r\nL 389.39375 265.995469 \r\nL 389.39375 0 \r\nL 0 0 \r\nz\r\n\" style=\"fill:none;\"/>\r\n  </g>\r\n  <g id=\"axes_1\">\r\n   <g id=\"patch_2\">\r\n    <path d=\"M 47.39375 228.439219 \r\nL 382.19375 228.439219 \r\nL 382.19375 10.999219 \r\nL 47.39375 10.999219 \r\nz\r\n\" style=\"fill:#ffffff;\"/>\r\n   </g>\r\n   <g id=\"patch_3\">\r\n    <path clip-path=\"url(#pb300c1c351)\" d=\"M 55.76375 228.439219 \r\nL 122.72375 228.439219 \r\nL 122.72375 174.079219 \r\nL 55.76375 174.079219 \r\nz\r\n\" style=\"fill:#cb3e4a;\"/>\r\n   </g>\r\n   <g id=\"patch_4\">\r\n    <path clip-path=\"url(#pb300c1c351)\" d=\"M 139.46375 228.439219 \r\nL 206.42375 228.439219 \r\nL 206.42375 119.719219 \r\nL 139.46375 119.719219 \r\nz\r\n\" style=\"fill:#ec7cb4;\"/>\r\n   </g>\r\n   <g id=\"patch_5\">\r\n    <path clip-path=\"url(#pb300c1c351)\" d=\"M 223.16375 228.439219 \r\nL 290.12375 228.439219 \r\nL 290.12375 65.359219 \r\nL 223.16375 65.359219 \r\nz\r\n\" style=\"fill:#dfaf20;\"/>\r\n   </g>\r\n   <g id=\"patch_6\">\r\n    <path clip-path=\"url(#pb300c1c351)\" d=\"M 306.86375 228.439219 \r\nL 373.82375 228.439219 \r\nL 373.82375 65.359219 \r\nL 306.86375 65.359219 \r\nz\r\n\" style=\"fill:#dfaf20;\"/>\r\n   </g>\r\n   <g id=\"matplotlib.axis_1\">\r\n    <g id=\"xtick_1\">\r\n     <g id=\"line2d_1\">\r\n      <defs>\r\n       <path d=\"M 0 0 \r\nL 0 3.5 \r\n\" id=\"m94999436fb\" style=\"stroke:#000000;stroke-width:0.8;\"/>\r\n      </defs>\r\n      <g>\r\n       <use style=\"stroke:#000000;stroke-width:0.8;\" x=\"89.24375\" xlink:href=\"#m94999436fb\" y=\"228.439219\"/>\r\n      </g>\r\n     </g>\r\n     <g id=\"text_1\">\r\n      <!-- RPAG 1 -->\r\n      <g transform=\"translate(71.096094 243.037656)scale(0.1 -0.1)\">\r\n       <defs>\r\n        <path d=\"M 2841 2188 \r\nQ 3044 2119 3236 1894 \r\nQ 3428 1669 3622 1275 \r\nL 4263 0 \r\nL 3584 0 \r\nL 2988 1197 \r\nQ 2756 1666 2539 1819 \r\nQ 2322 1972 1947 1972 \r\nL 1259 1972 \r\nL 1259 0 \r\nL 628 0 \r\nL 628 4666 \r\nL 2053 4666 \r\nQ 2853 4666 3247 4331 \r\nQ 3641 3997 3641 3322 \r\nQ 3641 2881 3436 2590 \r\nQ 3231 2300 2841 2188 \r\nz\r\nM 1259 4147 \r\nL 1259 2491 \r\nL 2053 2491 \r\nQ 2509 2491 2742 2702 \r\nQ 2975 2913 2975 3322 \r\nQ 2975 3731 2742 3939 \r\nQ 2509 4147 2053 4147 \r\nL 1259 4147 \r\nz\r\n\" id=\"DejaVuSans-52\" transform=\"scale(0.015625)\"/>\r\n        <path d=\"M 1259 4147 \r\nL 1259 2394 \r\nL 2053 2394 \r\nQ 2494 2394 2734 2622 \r\nQ 2975 2850 2975 3272 \r\nQ 2975 3691 2734 3919 \r\nQ 2494 4147 2053 4147 \r\nL 1259 4147 \r\nz\r\nM 628 4666 \r\nL 2053 4666 \r\nQ 2838 4666 3239 4311 \r\nQ 3641 3956 3641 3272 \r\nQ 3641 2581 3239 2228 \r\nQ 2838 1875 2053 1875 \r\nL 1259 1875 \r\nL 1259 0 \r\nL 628 0 \r\nL 628 4666 \r\nz\r\n\" id=\"DejaVuSans-50\" transform=\"scale(0.015625)\"/>\r\n        <path d=\"M 2188 4044 \r\nL 1331 1722 \r\nL 3047 1722 \r\nL 2188 4044 \r\nz\r\nM 1831 4666 \r\nL 2547 4666 \r\nL 4325 0 \r\nL 3669 0 \r\nL 3244 1197 \r\nL 1141 1197 \r\nL 716 0 \r\nL 50 0 \r\nL 1831 4666 \r\nz\r\n\" id=\"DejaVuSans-41\" transform=\"scale(0.015625)\"/>\r\n        <path d=\"M 3809 666 \r\nL 3809 1919 \r\nL 2778 1919 \r\nL 2778 2438 \r\nL 4434 2438 \r\nL 4434 434 \r\nQ 4069 175 3628 42 \r\nQ 3188 -91 2688 -91 \r\nQ 1594 -91 976 548 \r\nQ 359 1188 359 2328 \r\nQ 359 3472 976 4111 \r\nQ 1594 4750 2688 4750 \r\nQ 3144 4750 3555 4637 \r\nQ 3966 4525 4313 4306 \r\nL 4313 3634 \r\nQ 3963 3931 3569 4081 \r\nQ 3175 4231 2741 4231 \r\nQ 1884 4231 1454 3753 \r\nQ 1025 3275 1025 2328 \r\nQ 1025 1384 1454 906 \r\nQ 1884 428 2741 428 \r\nQ 3075 428 3337 486 \r\nQ 3600 544 3809 666 \r\nz\r\n\" id=\"DejaVuSans-47\" transform=\"scale(0.015625)\"/>\r\n        <path id=\"DejaVuSans-20\" transform=\"scale(0.015625)\"/>\r\n        <path d=\"M 794 531 \r\nL 1825 531 \r\nL 1825 4091 \r\nL 703 3866 \r\nL 703 4441 \r\nL 1819 4666 \r\nL 2450 4666 \r\nL 2450 531 \r\nL 3481 531 \r\nL 3481 0 \r\nL 794 0 \r\nL 794 531 \r\nz\r\n\" id=\"DejaVuSans-31\" transform=\"scale(0.015625)\"/>\r\n       </defs>\r\n       <use xlink:href=\"#DejaVuSans-52\"/>\r\n       <use x=\"69.482422\" xlink:href=\"#DejaVuSans-50\"/>\r\n       <use x=\"123.410156\" xlink:href=\"#DejaVuSans-41\"/>\r\n       <use x=\"190.068359\" xlink:href=\"#DejaVuSans-47\"/>\r\n       <use x=\"267.558594\" xlink:href=\"#DejaVuSans-20\"/>\r\n       <use x=\"299.345703\" xlink:href=\"#DejaVuSans-31\"/>\r\n      </g>\r\n     </g>\r\n    </g>\r\n    <g id=\"xtick_2\">\r\n     <g id=\"line2d_2\">\r\n      <g>\r\n       <use style=\"stroke:#000000;stroke-width:0.8;\" x=\"172.94375\" xlink:href=\"#m94999436fb\" y=\"228.439219\"/>\r\n      </g>\r\n     </g>\r\n     <g id=\"text_2\">\r\n      <!-- RPAG 2 -->\r\n      <g transform=\"translate(154.796094 243.037656)scale(0.1 -0.1)\">\r\n       <defs>\r\n        <path d=\"M 1228 531 \r\nL 3431 531 \r\nL 3431 0 \r\nL 469 0 \r\nL 469 531 \r\nQ 828 903 1448 1529 \r\nQ 2069 2156 2228 2338 \r\nQ 2531 2678 2651 2914 \r\nQ 2772 3150 2772 3378 \r\nQ 2772 3750 2511 3984 \r\nQ 2250 4219 1831 4219 \r\nQ 1534 4219 1204 4116 \r\nQ 875 4013 500 3803 \r\nL 500 4441 \r\nQ 881 4594 1212 4672 \r\nQ 1544 4750 1819 4750 \r\nQ 2544 4750 2975 4387 \r\nQ 3406 4025 3406 3419 \r\nQ 3406 3131 3298 2873 \r\nQ 3191 2616 2906 2266 \r\nQ 2828 2175 2409 1742 \r\nQ 1991 1309 1228 531 \r\nz\r\n\" id=\"DejaVuSans-32\" transform=\"scale(0.015625)\"/>\r\n       </defs>\r\n       <use xlink:href=\"#DejaVuSans-52\"/>\r\n       <use x=\"69.482422\" xlink:href=\"#DejaVuSans-50\"/>\r\n       <use x=\"123.410156\" xlink:href=\"#DejaVuSans-41\"/>\r\n       <use x=\"190.068359\" xlink:href=\"#DejaVuSans-47\"/>\r\n       <use x=\"267.558594\" xlink:href=\"#DejaVuSans-20\"/>\r\n       <use x=\"299.345703\" xlink:href=\"#DejaVuSans-32\"/>\r\n      </g>\r\n     </g>\r\n    </g>\r\n    <g id=\"xtick_3\">\r\n     <g id=\"line2d_3\">\r\n      <g>\r\n       <use style=\"stroke:#000000;stroke-width:0.8;\" x=\"256.64375\" xlink:href=\"#m94999436fb\" y=\"228.439219\"/>\r\n      </g>\r\n     </g>\r\n     <g id=\"text_3\">\r\n      <!-- RPAG 3 -->\r\n      <g transform=\"translate(238.496094 243.037656)scale(0.1 -0.1)\">\r\n       <defs>\r\n        <path d=\"M 2597 2516 \r\nQ 3050 2419 3304 2112 \r\nQ 3559 1806 3559 1356 \r\nQ 3559 666 3084 287 \r\nQ 2609 -91 1734 -91 \r\nQ 1441 -91 1130 -33 \r\nQ 819 25 488 141 \r\nL 488 750 \r\nQ 750 597 1062 519 \r\nQ 1375 441 1716 441 \r\nQ 2309 441 2620 675 \r\nQ 2931 909 2931 1356 \r\nQ 2931 1769 2642 2001 \r\nQ 2353 2234 1838 2234 \r\nL 1294 2234 \r\nL 1294 2753 \r\nL 1863 2753 \r\nQ 2328 2753 2575 2939 \r\nQ 2822 3125 2822 3475 \r\nQ 2822 3834 2567 4026 \r\nQ 2313 4219 1838 4219 \r\nQ 1578 4219 1281 4162 \r\nQ 984 4106 628 3988 \r\nL 628 4550 \r\nQ 988 4650 1302 4700 \r\nQ 1616 4750 1894 4750 \r\nQ 2613 4750 3031 4423 \r\nQ 3450 4097 3450 3541 \r\nQ 3450 3153 3228 2886 \r\nQ 3006 2619 2597 2516 \r\nz\r\n\" id=\"DejaVuSans-33\" transform=\"scale(0.015625)\"/>\r\n       </defs>\r\n       <use xlink:href=\"#DejaVuSans-52\"/>\r\n       <use x=\"69.482422\" xlink:href=\"#DejaVuSans-50\"/>\r\n       <use x=\"123.410156\" xlink:href=\"#DejaVuSans-41\"/>\r\n       <use x=\"190.068359\" xlink:href=\"#DejaVuSans-47\"/>\r\n       <use x=\"267.558594\" xlink:href=\"#DejaVuSans-20\"/>\r\n       <use x=\"299.345703\" xlink:href=\"#DejaVuSans-33\"/>\r\n      </g>\r\n     </g>\r\n    </g>\r\n    <g id=\"xtick_4\">\r\n     <g id=\"line2d_4\">\r\n      <g>\r\n       <use style=\"stroke:#000000;stroke-width:0.8;\" x=\"340.34375\" xlink:href=\"#m94999436fb\" y=\"228.439219\"/>\r\n      </g>\r\n     </g>\r\n     <g id=\"text_4\">\r\n      <!-- RPAG 4 -->\r\n      <g transform=\"translate(322.196094 243.037656)scale(0.1 -0.1)\">\r\n       <defs>\r\n        <path d=\"M 2419 4116 \r\nL 825 1625 \r\nL 2419 1625 \r\nL 2419 4116 \r\nz\r\nM 2253 4666 \r\nL 3047 4666 \r\nL 3047 1625 \r\nL 3713 1625 \r\nL 3713 1100 \r\nL 3047 1100 \r\nL 3047 0 \r\nL 2419 0 \r\nL 2419 1100 \r\nL 313 1100 \r\nL 313 1709 \r\nL 2253 4666 \r\nz\r\n\" id=\"DejaVuSans-34\" transform=\"scale(0.015625)\"/>\r\n       </defs>\r\n       <use xlink:href=\"#DejaVuSans-52\"/>\r\n       <use x=\"69.482422\" xlink:href=\"#DejaVuSans-50\"/>\r\n       <use x=\"123.410156\" xlink:href=\"#DejaVuSans-41\"/>\r\n       <use x=\"190.068359\" xlink:href=\"#DejaVuSans-47\"/>\r\n       <use x=\"267.558594\" xlink:href=\"#DejaVuSans-20\"/>\r\n       <use x=\"299.345703\" xlink:href=\"#DejaVuSans-34\"/>\r\n      </g>\r\n     </g>\r\n    </g>\r\n    <g id=\"text_5\">\r\n     <!-- RPAG -->\r\n     <g transform=\"translate(201.416406 256.715781)scale(0.1 -0.1)\">\r\n      <use xlink:href=\"#DejaVuSans-52\"/>\r\n      <use x=\"69.482422\" xlink:href=\"#DejaVuSans-50\"/>\r\n      <use x=\"123.410156\" xlink:href=\"#DejaVuSans-41\"/>\r\n      <use x=\"190.068359\" xlink:href=\"#DejaVuSans-47\"/>\r\n     </g>\r\n    </g>\r\n   </g>\r\n   <g id=\"matplotlib.axis_2\">\r\n    <g id=\"ytick_1\">\r\n     <g id=\"line2d_5\">\r\n      <defs>\r\n       <path d=\"M 0 0 \r\nL -3.5 0 \r\n\" id=\"mbb02137d8e\" style=\"stroke:#000000;stroke-width:0.8;\"/>\r\n      </defs>\r\n      <g>\r\n       <use style=\"stroke:#000000;stroke-width:0.8;\" x=\"47.39375\" xlink:href=\"#mbb02137d8e\" y=\"174.079219\"/>\r\n      </g>\r\n     </g>\r\n     <g id=\"text_6\">\r\n      <!-- Red -->\r\n      <g transform=\"translate(21.39375 177.878437)scale(0.1 -0.1)\">\r\n       <defs>\r\n        <path d=\"M 3597 1894 \r\nL 3597 1613 \r\nL 953 1613 \r\nQ 991 1019 1311 708 \r\nQ 1631 397 2203 397 \r\nQ 2534 397 2845 478 \r\nQ 3156 559 3463 722 \r\nL 3463 178 \r\nQ 3153 47 2828 -22 \r\nQ 2503 -91 2169 -91 \r\nQ 1331 -91 842 396 \r\nQ 353 884 353 1716 \r\nQ 353 2575 817 3079 \r\nQ 1281 3584 2069 3584 \r\nQ 2775 3584 3186 3129 \r\nQ 3597 2675 3597 1894 \r\nz\r\nM 3022 2063 \r\nQ 3016 2534 2758 2815 \r\nQ 2500 3097 2075 3097 \r\nQ 1594 3097 1305 2825 \r\nQ 1016 2553 972 2059 \r\nL 3022 2063 \r\nz\r\n\" id=\"DejaVuSans-65\" transform=\"scale(0.015625)\"/>\r\n        <path d=\"M 2906 2969 \r\nL 2906 4863 \r\nL 3481 4863 \r\nL 3481 0 \r\nL 2906 0 \r\nL 2906 525 \r\nQ 2725 213 2448 61 \r\nQ 2172 -91 1784 -91 \r\nQ 1150 -91 751 415 \r\nQ 353 922 353 1747 \r\nQ 353 2572 751 3078 \r\nQ 1150 3584 1784 3584 \r\nQ 2172 3584 2448 3432 \r\nQ 2725 3281 2906 2969 \r\nz\r\nM 947 1747 \r\nQ 947 1113 1208 752 \r\nQ 1469 391 1925 391 \r\nQ 2381 391 2643 752 \r\nQ 2906 1113 2906 1747 \r\nQ 2906 2381 2643 2742 \r\nQ 2381 3103 1925 3103 \r\nQ 1469 3103 1208 2742 \r\nQ 947 2381 947 1747 \r\nz\r\n\" id=\"DejaVuSans-64\" transform=\"scale(0.015625)\"/>\r\n       </defs>\r\n       <use xlink:href=\"#DejaVuSans-52\"/>\r\n       <use x=\"64.982422\" xlink:href=\"#DejaVuSans-65\"/>\r\n       <use x=\"126.505859\" xlink:href=\"#DejaVuSans-64\"/>\r\n      </g>\r\n     </g>\r\n    </g>\r\n    <g id=\"ytick_2\">\r\n     <g id=\"line2d_6\">\r\n      <g>\r\n       <use style=\"stroke:#000000;stroke-width:0.8;\" x=\"47.39375\" xlink:href=\"#mbb02137d8e\" y=\"119.719219\"/>\r\n      </g>\r\n     </g>\r\n     <g id=\"text_7\">\r\n      <!-- Pink -->\r\n      <g transform=\"translate(19.682813 123.518437)scale(0.1 -0.1)\">\r\n       <defs>\r\n        <path d=\"M 603 3500 \r\nL 1178 3500 \r\nL 1178 0 \r\nL 603 0 \r\nL 603 3500 \r\nz\r\nM 603 4863 \r\nL 1178 4863 \r\nL 1178 4134 \r\nL 603 4134 \r\nL 603 4863 \r\nz\r\n\" id=\"DejaVuSans-69\" transform=\"scale(0.015625)\"/>\r\n        <path d=\"M 3513 2113 \r\nL 3513 0 \r\nL 2938 0 \r\nL 2938 2094 \r\nQ 2938 2591 2744 2837 \r\nQ 2550 3084 2163 3084 \r\nQ 1697 3084 1428 2787 \r\nQ 1159 2491 1159 1978 \r\nL 1159 0 \r\nL 581 0 \r\nL 581 3500 \r\nL 1159 3500 \r\nL 1159 2956 \r\nQ 1366 3272 1645 3428 \r\nQ 1925 3584 2291 3584 \r\nQ 2894 3584 3203 3211 \r\nQ 3513 2838 3513 2113 \r\nz\r\n\" id=\"DejaVuSans-6e\" transform=\"scale(0.015625)\"/>\r\n        <path d=\"M 581 4863 \r\nL 1159 4863 \r\nL 1159 1991 \r\nL 2875 3500 \r\nL 3609 3500 \r\nL 1753 1863 \r\nL 3688 0 \r\nL 2938 0 \r\nL 1159 1709 \r\nL 1159 0 \r\nL 581 0 \r\nL 581 4863 \r\nz\r\n\" id=\"DejaVuSans-6b\" transform=\"scale(0.015625)\"/>\r\n       </defs>\r\n       <use xlink:href=\"#DejaVuSans-50\"/>\r\n       <use x=\"58.052734\" xlink:href=\"#DejaVuSans-69\"/>\r\n       <use x=\"85.835938\" xlink:href=\"#DejaVuSans-6e\"/>\r\n       <use x=\"149.214844\" xlink:href=\"#DejaVuSans-6b\"/>\r\n      </g>\r\n     </g>\r\n    </g>\r\n    <g id=\"ytick_3\">\r\n     <g id=\"line2d_7\">\r\n      <g>\r\n       <use style=\"stroke:#000000;stroke-width:0.8;\" x=\"47.39375\" xlink:href=\"#mbb02137d8e\" y=\"65.359219\"/>\r\n      </g>\r\n     </g>\r\n     <g id=\"text_8\">\r\n      <!-- Amber -->\r\n      <g transform=\"translate(7.2 69.158437)scale(0.1 -0.1)\">\r\n       <defs>\r\n        <path d=\"M 3328 2828 \r\nQ 3544 3216 3844 3400 \r\nQ 4144 3584 4550 3584 \r\nQ 5097 3584 5394 3201 \r\nQ 5691 2819 5691 2113 \r\nL 5691 0 \r\nL 5113 0 \r\nL 5113 2094 \r\nQ 5113 2597 4934 2840 \r\nQ 4756 3084 4391 3084 \r\nQ 3944 3084 3684 2787 \r\nQ 3425 2491 3425 1978 \r\nL 3425 0 \r\nL 2847 0 \r\nL 2847 2094 \r\nQ 2847 2600 2669 2842 \r\nQ 2491 3084 2119 3084 \r\nQ 1678 3084 1418 2786 \r\nQ 1159 2488 1159 1978 \r\nL 1159 0 \r\nL 581 0 \r\nL 581 3500 \r\nL 1159 3500 \r\nL 1159 2956 \r\nQ 1356 3278 1631 3431 \r\nQ 1906 3584 2284 3584 \r\nQ 2666 3584 2933 3390 \r\nQ 3200 3197 3328 2828 \r\nz\r\n\" id=\"DejaVuSans-6d\" transform=\"scale(0.015625)\"/>\r\n        <path d=\"M 3116 1747 \r\nQ 3116 2381 2855 2742 \r\nQ 2594 3103 2138 3103 \r\nQ 1681 3103 1420 2742 \r\nQ 1159 2381 1159 1747 \r\nQ 1159 1113 1420 752 \r\nQ 1681 391 2138 391 \r\nQ 2594 391 2855 752 \r\nQ 3116 1113 3116 1747 \r\nz\r\nM 1159 2969 \r\nQ 1341 3281 1617 3432 \r\nQ 1894 3584 2278 3584 \r\nQ 2916 3584 3314 3078 \r\nQ 3713 2572 3713 1747 \r\nQ 3713 922 3314 415 \r\nQ 2916 -91 2278 -91 \r\nQ 1894 -91 1617 61 \r\nQ 1341 213 1159 525 \r\nL 1159 0 \r\nL 581 0 \r\nL 581 4863 \r\nL 1159 4863 \r\nL 1159 2969 \r\nz\r\n\" id=\"DejaVuSans-62\" transform=\"scale(0.015625)\"/>\r\n        <path d=\"M 2631 2963 \r\nQ 2534 3019 2420 3045 \r\nQ 2306 3072 2169 3072 \r\nQ 1681 3072 1420 2755 \r\nQ 1159 2438 1159 1844 \r\nL 1159 0 \r\nL 581 0 \r\nL 581 3500 \r\nL 1159 3500 \r\nL 1159 2956 \r\nQ 1341 3275 1631 3429 \r\nQ 1922 3584 2338 3584 \r\nQ 2397 3584 2469 3576 \r\nQ 2541 3569 2628 3553 \r\nL 2631 2963 \r\nz\r\n\" id=\"DejaVuSans-72\" transform=\"scale(0.015625)\"/>\r\n       </defs>\r\n       <use xlink:href=\"#DejaVuSans-41\"/>\r\n       <use x=\"68.408203\" xlink:href=\"#DejaVuSans-6d\"/>\r\n       <use x=\"165.820312\" xlink:href=\"#DejaVuSans-62\"/>\r\n       <use x=\"229.296875\" xlink:href=\"#DejaVuSans-65\"/>\r\n       <use x=\"290.820312\" xlink:href=\"#DejaVuSans-72\"/>\r\n      </g>\r\n     </g>\r\n    </g>\r\n    <g id=\"ytick_4\">\r\n     <g id=\"line2d_8\">\r\n      <g>\r\n       <use style=\"stroke:#000000;stroke-width:0.8;\" x=\"47.39375\" xlink:href=\"#mbb02137d8e\" y=\"10.999219\"/>\r\n      </g>\r\n     </g>\r\n     <g id=\"text_9\">\r\n      <!-- Green -->\r\n      <g transform=\"translate(10.115625 14.798437)scale(0.1 -0.1)\">\r\n       <use xlink:href=\"#DejaVuSans-47\"/>\r\n       <use x=\"77.490234\" xlink:href=\"#DejaVuSans-72\"/>\r\n       <use x=\"116.353516\" xlink:href=\"#DejaVuSans-65\"/>\r\n       <use x=\"177.876953\" xlink:href=\"#DejaVuSans-65\"/>\r\n       <use x=\"239.400391\" xlink:href=\"#DejaVuSans-6e\"/>\r\n      </g>\r\n     </g>\r\n    </g>\r\n   </g>\r\n   <g id=\"line2d_9\">\r\n    <path clip-path=\"url(#pb300c1c351)\" style=\"fill:none;stroke:#424242;stroke-linecap:square;stroke-width:2.7;\"/>\r\n   </g>\r\n   <g id=\"line2d_10\">\r\n    <path clip-path=\"url(#pb300c1c351)\" style=\"fill:none;stroke:#424242;stroke-linecap:square;stroke-width:2.7;\"/>\r\n   </g>\r\n   <g id=\"line2d_11\">\r\n    <path clip-path=\"url(#pb300c1c351)\" style=\"fill:none;stroke:#424242;stroke-linecap:square;stroke-width:2.7;\"/>\r\n   </g>\r\n   <g id=\"line2d_12\">\r\n    <path clip-path=\"url(#pb300c1c351)\" style=\"fill:none;stroke:#424242;stroke-linecap:square;stroke-width:2.7;\"/>\r\n   </g>\r\n   <g id=\"patch_7\">\r\n    <path d=\"M 47.39375 228.439219 \r\nL 47.39375 10.999219 \r\n\" style=\"fill:none;stroke:#000000;stroke-linecap:square;stroke-linejoin:miter;stroke-width:0.8;\"/>\r\n   </g>\r\n   <g id=\"patch_8\">\r\n    <path d=\"M 382.19375 228.439219 \r\nL 382.19375 10.999219 \r\n\" style=\"fill:none;stroke:#000000;stroke-linecap:square;stroke-linejoin:miter;stroke-width:0.8;\"/>\r\n   </g>\r\n   <g id=\"patch_9\">\r\n    <path d=\"M 47.39375 228.439219 \r\nL 382.19375 228.439219 \r\n\" style=\"fill:none;stroke:#000000;stroke-linecap:square;stroke-linejoin:miter;stroke-width:0.8;\"/>\r\n   </g>\r\n   <g id=\"patch_10\">\r\n    <path d=\"M 47.39375 10.999219 \r\nL 382.19375 10.999219 \r\n\" style=\"fill:none;stroke:#000000;stroke-linecap:square;stroke-linejoin:miter;stroke-width:0.8;\"/>\r\n   </g>\r\n  </g>\r\n </g>\r\n <defs>\r\n  <clipPath id=\"pb300c1c351\">\r\n   <rect height=\"217.44\" width=\"334.8\" x=\"47.39375\" y=\"10.999219\"/>\r\n  </clipPath>\r\n </defs>\r\n</svg>\r\n",
      "image/png": "[encoded data removed]"
     },
     "metadata": {
      "needs_background": "light"
     }
    },
    {
     "output_type": "stream",
     "name": "stdout",
     "text": [
      "Index(['Abdulrahman Fawzi A ALSULAIMANI', 'Ada TORNOE',\n",
      "       'Adam Progestian RAMADHAN', 'Ahmed Hamdan Saeed Hamad ALDEREI',\n",
      "       'Ahmed Talal Faisal SHEIKH', 'Ahmet Ceylan', 'Albert KANOKOV',\n",
      "       'Ali Ahmed Ali AL ARAIMI', 'Ali Khalid M H MOSTAFAWI', 'Alican DEMIR',\n",
      "       ...\n",
      "       'Yuwen WEI', 'ZHILIN ZHENG', 'Zain Mehboob ELAHI',\n",
      "       'Zayed Khalifa Murad Abdulrahman ALBLOOSHI', 'Zehui WU',\n",
      "       'Zhanna SHERIMOVA', 'Zhixuan HAO', 'Ziqi ZHANG', 'Zirui ZHANG',\n",
      "       'Zu GONG'],\n",
      "      dtype='object', name='name', length=184)\n"
     ]
    }
   ],
   "metadata": {}
  }
 ],
 "metadata": {
  "orig_nbformat": 4,
  "language_info": {
   "name": "python",
   "version": "3.9.2",
   "mimetype": "text/x-python",
   "codemirror_mode": {
    "name": "ipython",
    "version": 3
   },
   "pygments_lexer": "ipython3",
   "nbconvert_exporter": "python",
   "file_extension": ".py"
  },
  "kernelspec": {
   "name": "python3",
   "display_name": "Python 3.9.2 64-bit"
  },
  "interpreter": {
   "hash": "672165424b2176c0518825bbf6ac5cf7557130af1791d59fe75c2bd75f102ae8"
  }
 },
 "nbformat": 4,
 "nbformat_minor": 2
}